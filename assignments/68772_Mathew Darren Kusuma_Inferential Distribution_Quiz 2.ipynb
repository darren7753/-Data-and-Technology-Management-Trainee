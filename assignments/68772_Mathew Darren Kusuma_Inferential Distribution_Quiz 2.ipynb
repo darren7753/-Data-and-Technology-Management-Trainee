{
 "cells": [
  {
   "cell_type": "markdown",
   "id": "1b20af9f",
   "metadata": {},
   "source": [
    "# Problem\n",
    "\n",
    "We are given the following information:\n",
    "\n",
    "- The test has a **95% accuracy** for detecting the disease, so the probability of testing positive given that someone has the disease is:\n",
    "\n",
    "$$\n",
    "P(\\text{Positive} \\mid \\text{Disease}) = 0.95\n",
    "$$\n",
    "\n",
    "- **1% of the population** has the disease:\n",
    "\n",
    "$$\n",
    "P(\\text{Disease}) = 0.01\n",
    "$$\n",
    "\n",
    "- The false positive rate is the probability that someone without the disease tests positive. Assuming the accuracy for detecting negatives is also 95%, the false positive rate is:\n",
    "\n",
    "$$\n",
    "P(\\text{Positive} \\mid \\text{No Disease}) = 0.05\n",
    "$$\n",
    "\n",
    "- **99% of the population** does not have the disease:\n",
    "\n",
    "$$\n",
    "P(\\text{No Disease}) = 0.99\n",
    "$$\n",
    "\n",
    "Now, we apply **Bayes' Theorem** to calculate the probability of having the disease given a positive test result:\n",
    "\n",
    "$$\n",
    "P(\\text{Disease} \\mid \\text{Positive}) = \\frac{P(\\text{Positive} \\mid \\text{Disease}) \\cdot P(\\text{Disease})}{P(\\text{Positive})}\n",
    "$$\n",
    "\n",
    "Where the total probability of testing positive, P(Positive), is calculated using the **law of total probability**:\n",
    "\n",
    "$$\n",
    "P(\\text{Positive}) = P(\\text{Positive} \\mid \\text{Disease}) \\cdot P(\\text{Disease}) + P(\\text{Positive} \\mid \\text{No Disease}) \\cdot P(\\text{No Disease})\n",
    "$$"
   ]
  },
  {
   "cell_type": "markdown",
   "id": "0e676732",
   "metadata": {},
   "source": [
    "# Python Implementation"
   ]
  },
  {
   "cell_type": "code",
   "execution_count": 1,
   "id": "1e988dec",
   "metadata": {},
   "outputs": [
    {
     "name": "stdout",
     "output_type": "stream",
     "text": [
      "Probability of having the disease given a positive test result: 0.16101694915254236\n"
     ]
    }
   ],
   "source": [
    "P_positive_given_disease = 0.95\n",
    "P_disease = 0.01\n",
    "P_positive_given_no_disease = 0.05\n",
    "P_no_disease = 0.99\n",
    "\n",
    "P_positive = (P_positive_given_disease * P_disease) + (P_positive_given_no_disease * P_no_disease)\n",
    "\n",
    "P_disease_given_positive = (P_positive_given_disease * P_disease) / P_positive\n",
    "\n",
    "print(f\"Probability of having the disease given a positive test result: {P_disease_given_positive}\")"
   ]
  }
 ],
 "metadata": {
  "kernelspec": {
   "display_name": "Python 3 (ipykernel)",
   "language": "python",
   "name": "python3"
  },
  "language_info": {
   "codemirror_mode": {
    "name": "ipython",
    "version": 3
   },
   "file_extension": ".py",
   "mimetype": "text/x-python",
   "name": "python",
   "nbconvert_exporter": "python",
   "pygments_lexer": "ipython3",
   "version": "3.11.5"
  }
 },
 "nbformat": 4,
 "nbformat_minor": 5
}
