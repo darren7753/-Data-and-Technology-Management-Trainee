{
 "cells": [
  {
   "cell_type": "code",
   "execution_count": 1,
   "metadata": {},
   "outputs": [],
   "source": [
    "import numpy as np"
   ]
  },
  {
   "cell_type": "code",
   "execution_count": 2,
   "metadata": {},
   "outputs": [
    {
     "name": "stdout",
     "output_type": "stream",
     "text": [
      "Vector x =\n",
      "[[176992]\n",
      " [214540]\n",
      " [476498]\n",
      " [204615]\n",
      " [661056]\n",
      " [311896]\n",
      " [579582]\n",
      " [471116]\n",
      " [937968]\n",
      " [753034]]\n",
      "\n",
      "Vector y =\n",
      "[[672718]\n",
      " [153129]\n",
      " [349829]\n",
      " [ 35392]\n",
      " [250793]\n",
      " [323318]\n",
      " [465213]\n",
      " [340701]\n",
      " [937071]\n",
      " [121862]]\n",
      "\n",
      "Vector z =\n",
      "[[348638]\n",
      " [915497]\n",
      " [ 32818]\n",
      " [456532]\n",
      " [864880]\n",
      " [615931]\n",
      " [649353]\n",
      " [315764]\n",
      " [755614]\n",
      " [871284]]\n",
      "\n",
      "Vector zeros =\n",
      "[[0]\n",
      " [0]\n",
      " [0]\n",
      " [0]\n",
      " [0]\n",
      " [0]\n",
      " [0]\n",
      " [0]\n",
      " [0]\n",
      " [0]]\n",
      "\n"
     ]
    }
   ],
   "source": [
    "np.random.seed(101)\n",
    "\n",
    "x = np.random.randint(1, 1_000_000, 10).reshape(-1, 1)\n",
    "y = np.random.randint(1, 1_000_000, 10).reshape(-1, 1)\n",
    "z = np.random.randint(1, 1_000_000, 10).reshape(-1, 1)\n",
    "zeros = np.zeros_like(x)\n",
    "\n",
    "for i, j in zip([\"x\", \"y\", \"z\", \"zeros\"], [x, y, z, zeros]):\n",
    "    print(f\"Vector {i} =\\n{j}\\n\")"
   ]
  },
  {
   "cell_type": "markdown",
   "metadata": {},
   "source": [
    "# Commutativity"
   ]
  },
  {
   "cell_type": "markdown",
   "metadata": {},
   "source": [
    "## Manual"
   ]
  },
  {
   "cell_type": "code",
   "execution_count": 3,
   "metadata": {},
   "outputs": [],
   "source": [
    "def calc_vectors(vector_a, vector_b, calculation):\n",
    "    if calculation == \"sum\":\n",
    "        ans = [i + j for i, j in zip(vector_a.flatten(), vector_b.flatten())]\n",
    "    elif calculation == \"min\":\n",
    "        ans = [i - j for i, j in zip(vector_a.flatten(), vector_b.flatten())]\n",
    "    return ans"
   ]
  },
  {
   "cell_type": "code",
   "execution_count": 4,
   "metadata": {},
   "outputs": [
    {
     "data": {
      "text/plain": [
       "True"
      ]
     },
     "execution_count": 4,
     "metadata": {},
     "output_type": "execute_result"
    }
   ],
   "source": [
    "sum_xy = calc_vectors(x, y, \"sum\")\n",
    "sum_yx = calc_vectors(y, x, \"sum\")\n",
    "\n",
    "sum_xy == sum_yx"
   ]
  },
  {
   "cell_type": "markdown",
   "metadata": {},
   "source": [
    "## NumPy"
   ]
  },
  {
   "cell_type": "code",
   "execution_count": 5,
   "metadata": {},
   "outputs": [
    {
     "data": {
      "text/plain": [
       "True"
      ]
     },
     "execution_count": 5,
     "metadata": {},
     "output_type": "execute_result"
    }
   ],
   "source": [
    "np.array_equal(\n",
    "    np.add(x, y),\n",
    "    np.add(y, x)\n",
    ")"
   ]
  },
  {
   "cell_type": "markdown",
   "metadata": {},
   "source": [
    "# Associativity"
   ]
  },
  {
   "cell_type": "code",
   "execution_count": 6,
   "metadata": {},
   "outputs": [
    {
     "data": {
      "text/plain": [
       "True"
      ]
     },
     "execution_count": 6,
     "metadata": {},
     "output_type": "execute_result"
    }
   ],
   "source": [
    "sum_xy_z = calc_vectors(\n",
    "    np.array(calc_vectors(x, y, \"sum\")),\n",
    "    z,\n",
    "    \"sum\"\n",
    ")\n",
    "sum_x_yz = calc_vectors(\n",
    "    x,\n",
    "    np.array(calc_vectors(y, z, \"sum\")),\n",
    "    \"sum\"\n",
    ")\n",
    "\n",
    "sum_xy_z == sum_x_yz"
   ]
  },
  {
   "cell_type": "markdown",
   "metadata": {},
   "source": [
    "## NumPy"
   ]
  },
  {
   "cell_type": "code",
   "execution_count": 7,
   "metadata": {},
   "outputs": [
    {
     "data": {
      "text/plain": [
       "True"
      ]
     },
     "execution_count": 7,
     "metadata": {},
     "output_type": "execute_result"
    }
   ],
   "source": [
    "np.array_equal(\n",
    "    np.add(\n",
    "        np.add(x, y),\n",
    "        z\n",
    "    ),\n",
    "    np.add(\n",
    "        x,\n",
    "        np.add(y, z)\n",
    "    ),\n",
    ")"
   ]
  },
  {
   "cell_type": "markdown",
   "metadata": {},
   "source": [
    "# Adding the Zero Has No Effect"
   ]
  },
  {
   "cell_type": "markdown",
   "metadata": {},
   "source": [
    "## Manual"
   ]
  },
  {
   "cell_type": "code",
   "execution_count": 8,
   "metadata": {},
   "outputs": [
    {
     "data": {
      "text/plain": [
       "True"
      ]
     },
     "execution_count": 8,
     "metadata": {},
     "output_type": "execute_result"
    }
   ],
   "source": [
    "sum_x0 = calc_vectors(x, zeros, \"sum\")\n",
    "sum_0x = calc_vectors(zeros, x, \"sum\")\n",
    "\n",
    "sum_x0 == sum_0x == list(x.flatten())"
   ]
  },
  {
   "cell_type": "markdown",
   "metadata": {},
   "source": [
    "## NumPy"
   ]
  },
  {
   "cell_type": "code",
   "execution_count": 9,
   "metadata": {},
   "outputs": [
    {
     "data": {
      "text/plain": [
       "True"
      ]
     },
     "execution_count": 9,
     "metadata": {},
     "output_type": "execute_result"
    }
   ],
   "source": [
    "np.array_equal(\n",
    "    np.add(x, zeros),\n",
    "    np.add(zeros, x)\n",
    ")"
   ]
  },
  {
   "cell_type": "markdown",
   "metadata": {},
   "source": [
    "# Substracting a Vector from Itself"
   ]
  },
  {
   "cell_type": "markdown",
   "metadata": {},
   "source": [
    "## Manual"
   ]
  },
  {
   "cell_type": "code",
   "execution_count": 10,
   "metadata": {},
   "outputs": [
    {
     "data": {
      "text/plain": [
       "True"
      ]
     },
     "execution_count": 10,
     "metadata": {},
     "output_type": "execute_result"
    }
   ],
   "source": [
    "min_xx = calc_vectors(x, x, \"min\")\n",
    "\n",
    "min_xx == list(zeros.flatten())"
   ]
  },
  {
   "cell_type": "markdown",
   "metadata": {},
   "source": [
    "## NumPy"
   ]
  },
  {
   "cell_type": "code",
   "execution_count": 11,
   "metadata": {},
   "outputs": [
    {
     "data": {
      "text/plain": [
       "True"
      ]
     },
     "execution_count": 11,
     "metadata": {},
     "output_type": "execute_result"
    }
   ],
   "source": [
    "np.array_equal(\n",
    "    np.subtract(x, x),\n",
    "    zeros\n",
    ")"
   ]
  }
 ],
 "metadata": {
  "kernelspec": {
   "display_name": "fifgroup",
   "language": "python",
   "name": "python3"
  },
  "language_info": {
   "codemirror_mode": {
    "name": "ipython",
    "version": 3
   },
   "file_extension": ".py",
   "mimetype": "text/x-python",
   "name": "python",
   "nbconvert_exporter": "python",
   "pygments_lexer": "ipython3",
   "version": "3.12.5"
  }
 },
 "nbformat": 4,
 "nbformat_minor": 2
}
