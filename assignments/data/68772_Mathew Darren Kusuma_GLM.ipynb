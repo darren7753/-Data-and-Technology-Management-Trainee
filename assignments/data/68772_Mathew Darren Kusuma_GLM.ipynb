{
 "cells": [
  {
   "cell_type": "code",
   "execution_count": 1,
   "metadata": {},
   "outputs": [],
   "source": [
    "import numpy as np\n",
    "import sympy as sp\n",
    "import pandas as pd\n",
    "import matplotlib.pyplot as plt\n",
    "import seaborn as sns\n",
    "\n",
    "import statsmodels.api as sm\n",
    "import statsmodels.formula.api as smf\n",
    "\n",
    "from sklearn.model_selection import train_test_split\n",
    "from sklearn.metrics import accuracy_score, confusion_matrix, ConfusionMatrixDisplay\n",
    "\n",
    "import warnings\n",
    "warnings.filterwarnings(\"ignore\")"
   ]
  },
  {
   "cell_type": "markdown",
   "metadata": {},
   "source": [
    "# Data"
   ]
  },
  {
   "cell_type": "code",
   "execution_count": 2,
   "metadata": {},
   "outputs": [
    {
     "name": "stdout",
     "output_type": "stream",
     "text": [
      "(54035, 8)\n"
     ]
    },
    {
     "data": {
      "text/html": [
       "<div>\n",
       "<style scoped>\n",
       "    .dataframe tbody tr th:only-of-type {\n",
       "        vertical-align: middle;\n",
       "    }\n",
       "\n",
       "    .dataframe tbody tr th {\n",
       "        vertical-align: top;\n",
       "    }\n",
       "\n",
       "    .dataframe thead th {\n",
       "        text-align: right;\n",
       "    }\n",
       "</style>\n",
       "<table border=\"1\" class=\"dataframe\">\n",
       "  <thead>\n",
       "    <tr style=\"text-align: right;\">\n",
       "      <th></th>\n",
       "      <th>capdiameter</th>\n",
       "      <th>capshape</th>\n",
       "      <th>gillcolor</th>\n",
       "      <th>stemheight</th>\n",
       "      <th>stemwidth</th>\n",
       "      <th>stemcolor</th>\n",
       "      <th>season</th>\n",
       "      <th>class</th>\n",
       "    </tr>\n",
       "  </thead>\n",
       "  <tbody>\n",
       "    <tr>\n",
       "      <th>0</th>\n",
       "      <td>1372</td>\n",
       "      <td>2</td>\n",
       "      <td>10</td>\n",
       "      <td>3.807467</td>\n",
       "      <td>1545</td>\n",
       "      <td>11</td>\n",
       "      <td>1.804273</td>\n",
       "      <td>1</td>\n",
       "    </tr>\n",
       "    <tr>\n",
       "      <th>1</th>\n",
       "      <td>1461</td>\n",
       "      <td>2</td>\n",
       "      <td>10</td>\n",
       "      <td>3.807467</td>\n",
       "      <td>1557</td>\n",
       "      <td>11</td>\n",
       "      <td>1.804273</td>\n",
       "      <td>1</td>\n",
       "    </tr>\n",
       "    <tr>\n",
       "      <th>2</th>\n",
       "      <td>1371</td>\n",
       "      <td>2</td>\n",
       "      <td>10</td>\n",
       "      <td>3.612496</td>\n",
       "      <td>1566</td>\n",
       "      <td>11</td>\n",
       "      <td>1.804273</td>\n",
       "      <td>1</td>\n",
       "    </tr>\n",
       "    <tr>\n",
       "      <th>3</th>\n",
       "      <td>1261</td>\n",
       "      <td>6</td>\n",
       "      <td>10</td>\n",
       "      <td>3.787572</td>\n",
       "      <td>1566</td>\n",
       "      <td>11</td>\n",
       "      <td>1.804273</td>\n",
       "      <td>1</td>\n",
       "    </tr>\n",
       "    <tr>\n",
       "      <th>4</th>\n",
       "      <td>1305</td>\n",
       "      <td>6</td>\n",
       "      <td>10</td>\n",
       "      <td>3.711971</td>\n",
       "      <td>1464</td>\n",
       "      <td>11</td>\n",
       "      <td>0.943195</td>\n",
       "      <td>1</td>\n",
       "    </tr>\n",
       "  </tbody>\n",
       "</table>\n",
       "</div>"
      ],
      "text/plain": [
       "   capdiameter  capshape  gillcolor  stemheight  stemwidth  stemcolor  \\\n",
       "0         1372         2         10    3.807467       1545         11   \n",
       "1         1461         2         10    3.807467       1557         11   \n",
       "2         1371         2         10    3.612496       1566         11   \n",
       "3         1261         6         10    3.787572       1566         11   \n",
       "4         1305         6         10    3.711971       1464         11   \n",
       "\n",
       "     season  class  \n",
       "0  1.804273      1  \n",
       "1  1.804273      1  \n",
       "2  1.804273      1  \n",
       "3  1.804273      1  \n",
       "4  0.943195      1  "
      ]
     },
     "execution_count": 2,
     "metadata": {},
     "output_type": "execute_result"
    }
   ],
   "source": [
    "df = pd.read_csv(\"../datasets/mushroom_cleaned.csv\")\n",
    "df = df.drop(\"gill-attachment\", axis=1)\n",
    "df.columns = [col.replace(\"-\", \"\") for col in df.columns]\n",
    "\n",
    "print(df.shape)\n",
    "df.head()"
   ]
  },
  {
   "cell_type": "code",
   "execution_count": 3,
   "metadata": {},
   "outputs": [
    {
     "data": {
      "text/plain": [
       "capdiameter    0\n",
       "capshape       0\n",
       "gillcolor      0\n",
       "stemheight     0\n",
       "stemwidth      0\n",
       "stemcolor      0\n",
       "season         0\n",
       "class          0\n",
       "dtype: int64"
      ]
     },
     "execution_count": 3,
     "metadata": {},
     "output_type": "execute_result"
    }
   ],
   "source": [
    "df.isnull().sum()"
   ]
  },
  {
   "cell_type": "code",
   "execution_count": 4,
   "metadata": {},
   "outputs": [
    {
     "name": "stdout",
     "output_type": "stream",
     "text": [
      "<class 'pandas.core.frame.DataFrame'>\n",
      "RangeIndex: 54035 entries, 0 to 54034\n",
      "Data columns (total 8 columns):\n",
      " #   Column       Non-Null Count  Dtype  \n",
      "---  ------       --------------  -----  \n",
      " 0   capdiameter  54035 non-null  int64  \n",
      " 1   capshape     54035 non-null  int64  \n",
      " 2   gillcolor    54035 non-null  int64  \n",
      " 3   stemheight   54035 non-null  float64\n",
      " 4   stemwidth    54035 non-null  int64  \n",
      " 5   stemcolor    54035 non-null  int64  \n",
      " 6   season       54035 non-null  float64\n",
      " 7   class        54035 non-null  int64  \n",
      "dtypes: float64(2), int64(6)\n",
      "memory usage: 3.3 MB\n"
     ]
    }
   ],
   "source": [
    "df.info()"
   ]
  },
  {
   "cell_type": "code",
   "execution_count": 5,
   "metadata": {},
   "outputs": [
    {
     "data": {
      "text/plain": [
       "<Axes: xlabel='class', ylabel='count'>"
      ]
     },
     "execution_count": 5,
     "metadata": {},
     "output_type": "execute_result"
    },
    {
     "data": {
      "image/png": "[encoded data removed]",
      "text/plain": [
       "<Figure size 640x480 with 1 Axes>"
      ]
     },
     "metadata": {},
     "output_type": "display_data"
    }
   ],
   "source": [
    "sns.countplot(data=df, x=\"class\")"
   ]
  },
  {
   "cell_type": "markdown",
   "metadata": {},
   "source": [
    "# GLM"
   ]
  },
  {
   "cell_type": "code",
   "execution_count": 6,
   "metadata": {},
   "outputs": [],
   "source": [
    "X = df.drop(\"class\", axis=1)\n",
    "X = sm.add_constant(X)\n",
    "\n",
    "y = df[\"class\"]"
   ]
  },
  {
   "cell_type": "code",
   "execution_count": 7,
   "metadata": {},
   "outputs": [
    {
     "data": {
      "text/plain": [
       "((37824, 8), (16211, 8), (37824,), (16211,))"
      ]
     },
     "execution_count": 7,
     "metadata": {},
     "output_type": "execute_result"
    }
   ],
   "source": [
    "X_train, X_test, y_train, y_test = train_test_split(X, y, test_size=0.3, random_state=42, stratify=y)\n",
    "\n",
    "X_train.shape, X_test.shape, y_train.shape, y_test.shape"
   ]
  },
  {
   "cell_type": "code",
   "execution_count": 8,
   "metadata": {},
   "outputs": [
    {
     "name": "stdout",
     "output_type": "stream",
     "text": [
      "                 Generalized Linear Model Regression Results                  \n",
      "==============================================================================\n",
      "Dep. Variable:                  class   No. Observations:                37824\n",
      "Model:                            GLM   Df Residuals:                    37816\n",
      "Model Family:                Binomial   Df Model:                            7\n",
      "Link Function:                  Logit   Scale:                          1.0000\n",
      "Method:                          IRLS   Log-Likelihood:                -24043.\n",
      "Date:                Tue, 01 Oct 2024   Deviance:                       48087.\n",
      "Time:                        07:33:30   Pearson chi2:                 3.78e+04\n",
      "No. Iterations:                     4   Pseudo R-squ. (CS):            0.09992\n",
      "Covariance Type:            nonrobust                                         \n",
      "===============================================================================\n",
      "                  coef    std err          z      P>|z|      [0.025      0.975]\n",
      "-------------------------------------------------------------------------------\n",
      "const           1.6919      0.055     30.768      0.000       1.584       1.800\n",
      "capdiameter    -0.0004   5.58e-05     -6.396      0.000      -0.000      -0.000\n",
      "capshape       -0.0895      0.005    -17.021      0.000      -0.100      -0.079\n",
      "gillcolor      -0.0070      0.004     -1.966      0.049      -0.014    -2.2e-05\n",
      "stemheight      0.7258      0.019     38.966      0.000       0.689       0.762\n",
      "stemwidth      -0.0003   2.54e-05    -13.415      0.000      -0.000      -0.000\n",
      "stemcolor      -0.0686      0.003    -19.755      0.000      -0.075      -0.062\n",
      "season         -0.4901      0.037    -13.238      0.000      -0.563      -0.418\n",
      "===============================================================================\n"
     ]
    }
   ],
   "source": [
    "model = sm.GLM(y_train, X_train, family=sm.families.Binomial())\n",
    "result = model.fit()\n",
    "print(result.summary())"
   ]
  },
  {
   "cell_type": "markdown",
   "metadata": {},
   "source": [
    "## Model Details\n",
    "\n",
    "- **Dependent Variable:** `class`\n",
    "- **No. Observations:** 37,824\n",
    "- **Model Family:** Binomial (Logistic Regression)\n",
    "- **Link Function:** Logit\n",
    "- **Method:** Iterative Reweighted Least Squares (IRLS)\n",
    "- **Log-Likelihood:** -24,043\n",
    "- **Deviance:** 48,087\n",
    "- **Pearson chi2:** 37,800\n",
    "- **No. Iterations:** 4\n",
    "- **Pseudo R-squared (CS):** 0.09992\n",
    "\n",
    "## Coefficients and Interpretation\n",
    "\n",
    "| Variable | Coefficient | Std. Error | z-value | P>\\|z\\| | 95% Conf. Interval | Interpretation |\n",
    "|----------|-------------|------------|---------|---------|---------------------|----------------|\n",
    "| **const** | 1.6919 | 0.055 | 30.768 | 0.000 | [1.584, 1.800] | The intercept (baseline log-odds) when all other variables are 0. |\n",
    "| **cap-diameter** | -0.0004 | 5.58e-05 | -6.396 | 0.000 | [-0.000, -0.000] | A negative effect on the log-odds. For every unit increase in `cap-diameter`, the log-odds of belonging to `class` decrease slightly. |\n",
    "| **cap-shape** | -0.0895 | 0.005 | -17.021 | 0.000 | [-0.100, -0.079] | A significant negative effect on the log-odds of belonging to the `class`. |\n",
    "| **gill-color** | -0.0070 | 0.004 | -1.966 | 0.049 | [-0.014, -0.000022] | A small negative effect on the log-odds. This effect is marginally significant (p = 0.049). |\n",
    "| **stem-height** | 0.7258 | 0.019 | 38.966 | 0.000 | [0.689, 0.762] | A large positive effect on the log-odds of belonging to the `class`. As `stem-height` increases, the log-odds increase significantly. |\n",
    "| **stem-width** | -0.0003 | 2.54e-05 | -13.415 | 0.000 | [-0.000, -0.000] | A negative effect on the log-odds. The impact is statistically significant. |\n",
    "| **stem-color** | -0.0686 | 0.003 | -19.755 | 0.000 | [-0.075, -0.062] | A strong negative impact on the log-odds of belonging to the `class`. |\n",
    "| **season** | -0.4901 | 0.037 | -13.238 | 0.000 | [-0.563, -0.418] | A significant negative effect on the log-odds. The `season` variable strongly decreases the log-odds of being classified as the target class. |\n",
    "\n",
    "## Summary of Results\n",
    "\n",
    "- All coefficients are statistically significant at the 0.05 level, except `gill-color`, which is marginally significant (p = 0.049).\n",
    "- **Stem height** has the largest positive impact on the log-odds of belonging to the target class, while **cap-shape** and **season** have strong negative impacts.\n",
    "- **Cap-diameter**, **stem-width**, and **stem-color** also show negative effects, but their impact is smaller in magnitude.\n",
    "- The model explains about 9.99% of the variation in the dependent variable (`class`), as indicated by the **Pseudo R-squared** value.\n",
    "\n",
    "This interpretation suggests that changes in the independent variables significantly affect the likelihood of belonging to the target class, with stem-height being the most influential positive factor and season being a strong negative predictor."
   ]
  },
  {
   "cell_type": "markdown",
   "metadata": {},
   "source": [
    "## Model Equation\n",
    "\n",
    "The logistic regression equation can be expressed as:\n",
    "\n",
    "$$\n",
    "\\log\\left(\\frac{p}{1 - p}\\right) = \\beta_0 + \\beta_1 X_1 + \\beta_2 X_2 + \\ldots + \\beta_n X_n\n",
    "$$\n",
    "\n",
    "where:\n",
    "- $ p $ is the probability of the outcome occurring (e.g., $ Y = 1 $),\n",
    "- $ \\beta_0 $ is the intercept (constant),\n",
    "- $ \\beta_1, \\beta_2, \\ldots, \\beta_n $ are the coefficients for each predictor variable,\n",
    "- $ X_1, X_2, \\ldots, X_n $ are the predictor variables."
   ]
  },
  {
   "cell_type": "code",
   "execution_count": 9,
   "metadata": {},
   "outputs": [
    {
     "data": {
      "text/latex": [
       "$\\displaystyle - 0.000356671329913686 capdiameter - 0.0895012315693918 capshape + 1.69185189191383 const - 0.00697944661121915 gillcolor - 0.490103499988829 season - 0.0686359331093984 stemcolor + 0.725791948483237 stemheight - 0.000340912835343969 stemwidth + 1.69185189191383$"
      ],
      "text/plain": [
       "-0.000356671329913686*capdiameter - 0.0895012315693918*capshape + 1.69185189191383*const - 0.00697944661121915*gillcolor - 0.490103499988829*season - 0.0686359331093984*stemcolor + 0.725791948483237*stemheight - 0.000340912835343969*stemwidth + 1.69185189191383"
      ]
     },
     "execution_count": 9,
     "metadata": {},
     "output_type": "execute_result"
    }
   ],
   "source": [
    "coefficients = result.params\n",
    "variable_names = coefficients.index\n",
    "variables = sp.symbols(variable_names)\n",
    "\n",
    "log_odds = coefficients[\"const\"]\n",
    "log_odds += sum(coefficients[i] * variables[i] for i in range(len(variables)))\n",
    "log_odds"
   ]
  },
  {
   "cell_type": "markdown",
   "metadata": {},
   "source": [
    "The probability of the outcome occurring can be expressed as:\n",
    "\n",
    "$$\n",
    "p = \\frac{1}{1 + e^{-(\\beta_0 + \\beta_1 X_1 + \\beta_2 X_2 + \\ldots + \\beta_n X_n)}}\n",
    "$$\n",
    "\n",
    "where:\n",
    "- $ p $ is the probability of the outcome occurring (e.g., $ Y = 1 $),\n",
    "- $ \\beta_0 $ is the intercept (constant),\n",
    "- $ \\beta_1, \\beta_2, \\ldots, \\beta_n $ are the coefficients for each predictor variable,\n",
    "- $ X_1, X_2, \\ldots, X_n $ are the predictor variables,\n",
    "- $ e $ is the base of the natural logarithm.\n"
   ]
  },
  {
   "cell_type": "code",
   "execution_count": 10,
   "metadata": {},
   "outputs": [
    {
     "data": {
      "text/latex": [
       "$\\displaystyle \\frac{1}{0.184178129988529 e^{0.000356671329913686 capdiameter + 0.0895012315693918 capshape - 1.69185189191383 const + 0.00697944661121915 gillcolor + 0.490103499988829 season + 0.0686359331093984 stemcolor - 0.725791948483237 stemheight + 0.000340912835343969 stemwidth} + 1}$"
      ],
      "text/plain": [
       "1/(0.184178129988529*exp(0.000356671329913686*capdiameter + 0.0895012315693918*capshape - 1.69185189191383*const + 0.00697944661121915*gillcolor + 0.490103499988829*season + 0.0686359331093984*stemcolor - 0.725791948483237*stemheight + 0.000340912835343969*stemwidth) + 1)"
      ]
     },
     "execution_count": 10,
     "metadata": {},
     "output_type": "execute_result"
    }
   ],
   "source": [
    "probability = 1 / (1 + sp.exp(-log_odds))\n",
    "probability"
   ]
  },
  {
   "cell_type": "code",
   "execution_count": 11,
   "metadata": {},
   "outputs": [],
   "source": [
    "y_pred_prob = result.predict(X_test)\n",
    "y_pred_class = (y_pred_prob >= 0.5).astype(int)"
   ]
  },
  {
   "cell_type": "code",
   "execution_count": 12,
   "metadata": {},
   "outputs": [
    {
     "data": {
      "image/png": "[encoded data removed]",
      "text/plain": [
       "<Figure size 640x480 with 2 Axes>"
      ]
     },
     "metadata": {},
     "output_type": "display_data"
    }
   ],
   "source": [
    "cm = confusion_matrix(y_test, y_pred_class)\n",
    "\n",
    "disp = ConfusionMatrixDisplay(confusion_matrix=cm)\n",
    "disp.plot(cmap=\"Blues\")\n",
    "\n",
    "plt.title(f\"Accuracy: {accuracy_score(y_test, y_pred_class) * 100:.2f}%\")\n",
    "plt.show()"
   ]
  }
 ],
 "metadata": {
  "kernelspec": {
   "display_name": "mt",
   "language": "python",
   "name": "python3"
  },
  "language_info": {
   "codemirror_mode": {
    "name": "ipython",
    "version": 3
   },
   "file_extension": ".py",
   "mimetype": "text/x-python",
   "name": "python",
   "nbconvert_exporter": "python",
   "pygments_lexer": "ipython3",
   "version": "3.10.15"
  }
 },
 "nbformat": 4,
 "nbformat_minor": 2
}
