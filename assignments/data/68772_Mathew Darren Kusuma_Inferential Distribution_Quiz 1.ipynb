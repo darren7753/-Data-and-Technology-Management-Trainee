{
 "cells": [
  {
   "cell_type": "markdown",
   "metadata": {},
   "source": [
    "# Given Information\n",
    "\n",
    "## Probabilities of Choosing Each Delivery Method:\n",
    "\n",
    "- Standard Delivery: 60% of customers choose this.\n",
    "- Express Delivery: 30% of customers choose this.\n",
    "- Same-Day Delivery: 10% of customers choose this.\n",
    "\n",
    "## Success Rates for Each Delivery Method:\n",
    "\n",
    "- Standard Delivery: 95% success rate, so 5% failure rate.\n",
    "- Express Delivery: 90% success rate, so 10% failure rate.\n",
    "- Same-Day Delivery: 85% success rate, so 15% failure rate."
   ]
  },
  {
   "cell_type": "markdown",
   "metadata": {},
   "source": [
    "# Steps to Solve\n",
    "\n",
    "## Find the Overall Probability of Failure P(F):\n",
    "\n",
    "To find this, we need to account for how often each type of delivery fails and how likely each type of delivery is chosen. We use the law of total probability:\n",
    "\n",
    "$$\n",
    "P(F) = \\left( P(F \\mid S) \\cdot P(S) \\right) + \\left( P(F \\mid E) \\cdot P(E) \\right) + \\left( P(F \\mid D) \\cdot P(D) \\right)\n",
    "$$\n",
    "\n",
    "Where:\n",
    "\n",
    "$$\n",
    "P(F \\mid S) = 0.05\n",
    "$$ \n",
    "(Failure rate for standard delivery)\n",
    "\n",
    "$$\n",
    "P(F \\mid E) = 0.10\n",
    "$$ \n",
    "(Failure rate for express delivery)\n",
    "\n",
    "$$\n",
    "P(F \\mid D) = 0.15\n",
    "$$ \n",
    "(Failure rate for same-day delivery)\n",
    "\n",
    "Plugging in these values:\n",
    "\n",
    "$$\n",
    "P(F) = (0.05 \\cdot 0.60) + (0.10 \\cdot 0.30) + (0.15 \\cdot 0.10)\n",
    "$$\n",
    "\n",
    "$$\n",
    "P(F) = 0.03 + 0.03 + 0.015 = 0.075\n",
    "$$\n",
    "\n",
    "So, the overall probability of a delivery failure is:\n",
    "\n",
    "$$\n",
    "P(F) = 0.075\n",
    "$$\n",
    "\n",
    "or 7.5%.\n",
    "\n",
    "## Apply Bayes' Theorem:\n",
    "\n",
    "Bayes' theorem helps us find the probability of one event given that another event has occurred. Here, we want to find the probability that a customer chose express delivery given that their delivery failed:\n",
    "\n",
    "$$\n",
    "P(E \\mid F) = \\frac{P(F \\mid E) \\cdot P(E)}{P(F)}\n",
    "$$\n",
    "\n",
    "Where:\n",
    "\n",
    "$$\n",
    "P(F \\mid E) = 0.10\n",
    "$$ \n",
    "(Failure rate for express delivery)\n",
    "\n",
    "$$\n",
    "P(E) = 0.30\n",
    "$$ \n",
    "(Probability of choosing express delivery)\n",
    "\n",
    "$$\n",
    "P(F) = 0.075\n",
    "$$ \n",
    "(Overall failure rate)\n",
    "\n",
    "Plugging in these values:\n",
    "\n",
    "$$\n",
    "P(E \\mid F) = \\frac{0.10 \\cdot 0.30}{0.075}\n",
    "$$\n",
    "\n",
    "$$\n",
    "P(E \\mid F) = \\frac{0.03}{0.075} = 0.40\n",
    "$$\n",
    "\n",
    "Therefore, if a customer’s delivery fails, there’s a 40% chance they chose express delivery."
   ]
  },
  {
   "cell_type": "markdown",
   "metadata": {},
   "source": [
    "# Python Implementation"
   ]
  },
  {
   "cell_type": "code",
   "execution_count": 1,
   "metadata": {},
   "outputs": [
    {
     "name": "stdout",
     "output_type": "stream",
     "text": [
      "Overall Probability of Failure (P(F))\t\t\t: 0.075\n",
      "Probability of Express Delivery Given Failure (P(E|F))\t: 0.4\n"
     ]
    }
   ],
   "source": [
    "P_F_given_S = 0.05\n",
    "P_F_given_E = 0.10\n",
    "P_F_given_D = 0.15\n",
    "\n",
    "P_S = 0.60\n",
    "P_E = 0.30\n",
    "P_D = 0.10\n",
    "\n",
    "P_F = (P_F_given_S * P_S) + (P_F_given_E * P_E) + (P_F_given_D * P_D)\n",
    "\n",
    "P_E_given_F = (P_F_given_E * P_E) / P_F\n",
    "\n",
    "print(f\"Overall Probability of Failure (P(F))\\t\\t\\t: {P_F}\")\n",
    "print(f\"Probability of Express Delivery Given Failure (P(E|F))\\t: {P_E_given_F:}\")"
   ]
  }
 ],
 "metadata": {
  "kernelspec": {
   "display_name": "Python 3 (ipykernel)",
   "language": "python",
   "name": "python3"
  },
  "language_info": {
   "codemirror_mode": {
    "name": "ipython",
    "version": 3
   },
   "file_extension": ".py",
   "mimetype": "text/x-python",
   "name": "python",
   "nbconvert_exporter": "python",
   "pygments_lexer": "ipython3",
   "version": "3.11.5"
  }
 },
 "nbformat": 4,
 "nbformat_minor": 2
}
